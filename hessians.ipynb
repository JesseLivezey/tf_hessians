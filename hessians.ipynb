{
 "cells": [
  {
   "cell_type": "code",
   "execution_count": 1,
   "metadata": {
    "collapsed": true
   },
   "outputs": [],
   "source": [
    "import tensorflow as tf"
   ]
  },
  {
   "cell_type": "code",
   "execution_count": 13,
   "metadata": {},
   "outputs": [],
   "source": [
    "p = tf.get_variable('p', 8)"
   ]
  },
  {
   "cell_type": "code",
   "execution_count": 23,
   "metadata": {},
   "outputs": [],
   "source": [
    "w0 = tf.reshape(p[:4], (2, 2))\n",
    "w1 = tf.reshape(p[4:], (2, 2))\n",
    "c = tf.reduce_sum(tf.matmul(w0, w0, transpose_a=True)) + tf.reduce_sum(tf.matmul(w1, w0, transpose_a=True))"
   ]
  },
  {
   "cell_type": "code",
   "execution_count": 24,
   "metadata": {
    "collapsed": true
   },
   "outputs": [],
   "source": [
    "h = tf.hessians(c ,p)"
   ]
  },
  {
   "cell_type": "code",
   "execution_count": 25,
   "metadata": {
    "collapsed": true
   },
   "outputs": [],
   "source": [
    "sess = tf.InteractiveSession()\n",
    "tf.global_variables_initializer().run()"
   ]
  },
  {
   "cell_type": "code",
   "execution_count": 26,
   "metadata": {},
   "outputs": [
    {
     "data": {
      "text/plain": [
       "[array([[-0.33244741, -0.09013867],\n",
       "        [-0.32784635,  0.14778364]], dtype=float32),\n",
       " array([[-0.57800531,  0.09520155],\n",
       "        [-0.02095801,  0.03431547]], dtype=float32),\n",
       " [array([[ 2.,  2.,  0.,  0.,  1.,  1.,  0.,  0.],\n",
       "         [ 2.,  2.,  0.,  0.,  1.,  1.,  0.,  0.],\n",
       "         [ 0.,  0.,  2.,  2.,  0.,  0.,  1.,  1.],\n",
       "         [ 0.,  0.,  2.,  2.,  0.,  0.,  1.,  1.],\n",
       "         [ 1.,  1.,  0.,  0.,  0.,  0.,  0.,  0.],\n",
       "         [ 1.,  1.,  0.,  0.,  0.,  0.,  0.,  0.],\n",
       "         [ 0.,  0.,  1.,  1.,  0.,  0.,  0.,  0.],\n",
       "         [ 0.,  0.,  1.,  1.,  0.,  0.,  0.,  0.]], dtype=float32)]]"
      ]
     },
     "execution_count": 26,
     "metadata": {},
     "output_type": "execute_result"
    }
   ],
   "source": [
    "sess.run([w0, w1, h])"
   ]
  },
  {
   "cell_type": "code",
   "execution_count": null,
   "metadata": {
    "collapsed": true
   },
   "outputs": [],
   "source": []
  }
 ],
 "metadata": {
  "kernelspec": {
   "display_name": "Python 3",
   "language": "python",
   "name": "python3"
  },
  "language_info": {
   "codemirror_mode": {
    "name": "ipython",
    "version": 3
   },
   "file_extension": ".py",
   "mimetype": "text/x-python",
   "name": "python",
   "nbconvert_exporter": "python",
   "pygments_lexer": "ipython3",
   "version": "3.5.4"
  }
 },
 "nbformat": 4,
 "nbformat_minor": 2
}
