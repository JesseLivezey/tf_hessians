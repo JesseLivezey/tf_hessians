{
 "cells": [
  {
   "cell_type": "code",
   "execution_count": 1,
   "metadata": {
    "collapsed": true,
    "scrolled": true
   },
   "outputs": [],
   "source": [
    "from __future__ import absolute_import\n",
    "from __future__ import division\n",
    "from __future__ import print_function\n",
    "\n",
    "import argparse\n",
    "import sys\n",
    "import numpy as np\n",
    "import matplotlib.pyplot as plt\n",
    "\n",
    "from tensorflow.examples.tutorials.mnist import input_data\n",
    "\n",
    "import tensorflow as tf\n",
    "\n",
    "FLAGS = None"
   ]
  },
  {
   "cell_type": "code",
   "execution_count": 8,
   "metadata": {
    "collapsed": true
   },
   "outputs": [],
   "source": [
    "rng = np.random.RandomState()\n",
    "crop = 1\n",
    "ds_factor = 1.\n",
    "eig_frac_cutoff = .001\n",
    "\n",
    "def new_shape(crop, ds_factor):\n",
    "    return int(np.around((28 - crop) / ds_factor))\n",
    "\n",
    "def transform(X, crop=2, ds_factor=2.):\n",
    "    Xp = tf.reshape(X, (-1, 28, 28))\n",
    "    Xp = Xp[:, crop:28-crop, crop:28-crop]\n",
    "    new = new_shape(crop, ds_factor)\n",
    "    Xp = tf.image.resize_images(tf.expand_dims(Xp, axis=-1), (new, new))\n",
    "    return tf.reshape(Xp, (-1, new**2))"
   ]
  },
  {
   "cell_type": "code",
   "execution_count": 9,
   "metadata": {},
   "outputs": [
    {
     "name": "stdout",
     "output_type": "stream",
     "text": [
      "Extracting /tmp/tensorflow/mnist/input_data/train-images-idx3-ubyte.gz\n",
      "Extracting /tmp/tensorflow/mnist/input_data/train-labels-idx1-ubyte.gz\n",
      "Extracting /tmp/tensorflow/mnist/input_data/t10k-images-idx3-ubyte.gz\n",
      "Extracting /tmp/tensorflow/mnist/input_data/t10k-labels-idx1-ubyte.gz\n"
     ]
    }
   ],
   "source": [
    "mnist = input_data.read_data_sets('/tmp/tensorflow/mnist/input_data/', one_hot=True)\n",
    "new_dim = new_shape(crop, ds_factor) **2\n",
    "# Create the model\n",
    "x = tf.placeholder(tf.float32, [None, 784])\n",
    "x_small = transform(x, crop, ds_factor)\n",
    "p = tf.Variable(tf.zeros((new_dim * 10) + 10))\n",
    "W = tf.reshape(p[:new_dim * 10], [new_dim, 10])\n",
    "b = tf.reshape(p[new_dim * 10:], [10])\n",
    "\n",
    "y = tf.matmul(x_small, W) + b\n",
    "\n",
    "# Define loss and optimizer\n",
    "y_ = tf.placeholder(tf.float32, [None, 10])\n",
    "\n",
    "cross_entropy = tf.reduce_mean(tf.nn.softmax_cross_entropy_with_logits(labels=y_, logits=y))"
   ]
  },
  {
   "cell_type": "code",
   "execution_count": 10,
   "metadata": {
    "collapsed": true
   },
   "outputs": [],
   "source": [
    "opt = tf.train.GradientDescentOptimizer(learning_rate=1.)\n",
    "grad, var = opt.compute_gradients(cross_entropy, var_list=[p])[0]\n",
    "grad2 = tf.reshape(grad, (grad.shape[0], 1))\n",
    "\n",
    "# Meaningless outside pixel make Hessian not invertable, cropping would fix need for tf.eye\n",
    "hess = tf.squeeze(tf.hessians(cross_entropy, p)) #+ .0001 * tf.eye((new_dim * 10) + 10)\n",
    "e, v = tf.self_adjoint_eig(tf.expand_dims(hess, axis=0))\n",
    "thresh = tf.reduce_sum(e) * eig_frac_cutoff\n",
    "keep = tf.reduce_sum(tf.cast(tf.greater_equal(e, thresh), tf.int32))\n",
    "ep = tf.squeeze(e)[-keep:]\n",
    "vp = tf.squeeze(v)[:, -keep:]\n",
    "inv_hess = tf.matmul(vp, (1. / tf.expand_dims(ep, axis=0)) * vp, transpose_b=True)\n",
    "grad_prime = tf.squeeze(tf.matmul(inv_hess, grad2))\n",
    "train_step = opt.apply_gradients([(grad_prime, var)])"
   ]
  },
  {
   "cell_type": "code",
   "execution_count": 11,
   "metadata": {
    "collapsed": true
   },
   "outputs": [],
   "source": [
    "sess = tf.InteractiveSession()\n",
    "tf.global_variables_initializer().run()"
   ]
  },
  {
   "cell_type": "code",
   "execution_count": 12,
   "metadata": {
    "scrolled": false
   },
   "outputs": [
    {
     "name": "stdout",
     "output_type": "stream",
     "text": [
      "training\n",
      "0.098\n",
      "0.101\n",
      "[ 0.35628998  0.35629016  0.44745827  0.44745836  0.44745842  0.44745842\n",
      "  0.44745848  0.4474586   0.4474586   0.44745874  0.44745928  4.13997984\n",
      "  4.13998032  4.13998032  4.13998079  4.13998079  4.13998079  4.13998079\n",
      "  4.13998175  4.1399827 ] 135\n",
      "0.8889\n",
      "0.8875\n",
      "[ 0.08241394  0.09078948  0.09269261  0.09522659  0.09784698  0.10331086\n",
      "  0.11912247  0.12157541  0.1431842   0.16414766  0.18712673  0.40612173\n",
      "  0.43665218  0.52581567  0.65822381  0.7611351   0.90421444  1.24736309\n",
      "  1.48996997  1.70660675] 119\n",
      "0.8925\n",
      "0.8945\n",
      "[ 0.06274751  0.06377082  0.06820851  0.0706945   0.07280236  0.07880594\n",
      "  0.09264552  0.09644875  0.10805403  0.11998767  0.14545912  0.29143661\n",
      "  0.31474462  0.40359837  0.49199629  0.55618536  0.62603456  0.93768805\n",
      "  1.16037571  1.36300516] 117\n",
      "0.8969\n",
      "0.8885\n",
      "[ 0.05076982  0.05354552  0.05629497  0.0617409   0.0670227   0.07193024\n",
      "  0.07549796  0.07816145  0.09253377  0.11558396  0.1295661   0.23748133\n",
      "  0.25268039  0.33109638  0.43033043  0.4467175   0.57874328  0.84787464\n",
      "  0.98689139  1.11903977] 117\n",
      "0.8931\n",
      "0.8885\n",
      "[ 0.05029228  0.05619461  0.05806954  0.06027441  0.06102571  0.06977788\n",
      "  0.07354076  0.08342136  0.09602553  0.10601128  0.15236282  0.21147299\n",
      "  0.23260534  0.27943984  0.3764888   0.39346349  0.55597371  0.78798878\n",
      "  0.81883007  1.33511662] 114\n",
      "0.9001\n",
      "0.9015\n",
      "[ 0.04457464  0.04526864  0.04646773  0.04813594  0.05332372  0.05628464\n",
      "  0.05768351  0.06417116  0.07423829  0.08112936  0.09367483  0.17491996\n",
      "  0.21057282  0.23486739  0.29634693  0.33500743  0.40598956  0.60241657\n",
      "  0.74795848  0.96130186] 118\n",
      "0.902\n",
      "0.9035\n",
      "[ 0.0363216   0.03852406  0.04178088  0.04376759  0.04728788  0.05080436\n",
      "  0.06152407  0.06766012  0.06985662  0.07796965  0.09076414  0.12594362\n",
      "  0.15660891  0.18048538  0.24307977  0.26622069  0.35175407  0.59839451\n",
      "  0.68136477  0.84484071] 119\n",
      "0.9052\n",
      "0.8985\n",
      "[ 0.03627288  0.03663792  0.03938476  0.040944    0.04452298  0.04863247\n",
      "  0.05253974  0.05887179  0.05970089  0.07423978  0.09451712  0.097673\n",
      "  0.14690354  0.15566997  0.22525176  0.30087945  0.36288917  0.45559639\n",
      "  0.64442927  0.72606778] 119\n",
      "0.9051\n",
      "0.9065\n",
      "[ 0.03242551  0.03291441  0.03373817  0.03844136  0.0387289   0.04091269\n",
      "  0.04326284  0.04483037  0.04951997  0.05945241  0.06841063  0.1266509\n",
      "  0.13874036  0.1913958   0.20721115  0.22132017  0.26805386  0.46651238\n",
      "  0.52292764  0.7372328 ] 118\n",
      "0.8987\n",
      "0.901\n",
      "[ 0.03082402  0.03250868  0.03349692  0.03605692  0.03843835  0.04159768\n",
      "  0.04676747  0.052421    0.05473492  0.06699336  0.07514028  0.12515651\n",
      "  0.14929561  0.15653013  0.21889512  0.23255868  0.30611169  0.48266461\n",
      "  0.54287112  0.65605748] 119\n"
     ]
    },
    {
     "ename": "KeyboardInterrupt",
     "evalue": "",
     "output_type": "error",
     "traceback": [
      "\u001b[0;31m---------------------------------------------------------------------------\u001b[0m",
      "\u001b[0;31mKeyboardInterrupt\u001b[0m                         Traceback (most recent call last)",
      "\u001b[0;32m<ipython-input-12-567eb34c91aa>\u001b[0m in \u001b[0;36m<module>\u001b[0;34m()\u001b[0m\n\u001b[1;32m     15\u001b[0m         \u001b[0mplt\u001b[0m\u001b[0;34m.\u001b[0m\u001b[0mplot\u001b[0m\u001b[0;34m(\u001b[0m\u001b[0me_float\u001b[0m\u001b[0;34m.\u001b[0m\u001b[0mravel\u001b[0m\u001b[0;34m(\u001b[0m\u001b[0;34m)\u001b[0m\u001b[0;34m)\u001b[0m\u001b[0;34m\u001b[0m\u001b[0m\n\u001b[1;32m     16\u001b[0m         \u001b[0mprint\u001b[0m\u001b[0;34m(\u001b[0m\u001b[0me_float\u001b[0m\u001b[0;34m.\u001b[0m\u001b[0mravel\u001b[0m\u001b[0;34m(\u001b[0m\u001b[0;34m)\u001b[0m\u001b[0;34m[\u001b[0m\u001b[0;34m-\u001b[0m\u001b[0;36m20\u001b[0m\u001b[0;34m:\u001b[0m\u001b[0;34m]\u001b[0m\u001b[0;34m,\u001b[0m \u001b[0mn\u001b[0m\u001b[0;34m)\u001b[0m\u001b[0;34m\u001b[0m\u001b[0m\n\u001b[0;32m---> 17\u001b[0;31m     \u001b[0msess\u001b[0m\u001b[0;34m.\u001b[0m\u001b[0mrun\u001b[0m\u001b[0;34m(\u001b[0m\u001b[0mtrain_step\u001b[0m\u001b[0;34m,\u001b[0m \u001b[0mfeed_dict\u001b[0m\u001b[0;34m=\u001b[0m\u001b[0;34m{\u001b[0m\u001b[0mx\u001b[0m\u001b[0;34m:\u001b[0m \u001b[0mbatch_xs\u001b[0m\u001b[0;34m,\u001b[0m \u001b[0my_\u001b[0m\u001b[0;34m:\u001b[0m \u001b[0mbatch_ys\u001b[0m\u001b[0;34m}\u001b[0m\u001b[0;34m)\u001b[0m\u001b[0;34m\u001b[0m\u001b[0m\n\u001b[0m\u001b[1;32m     18\u001b[0m \u001b[0;34m\u001b[0m\u001b[0m\n\u001b[1;32m     19\u001b[0m \u001b[0mprint\u001b[0m\u001b[0;34m(\u001b[0m\u001b[0;34m'test'\u001b[0m\u001b[0;34m)\u001b[0m\u001b[0;34m\u001b[0m\u001b[0m\n",
      "\u001b[0;32m~/anaconda3/envs/tf35/lib/python3.5/site-packages/tensorflow/python/client/session.py\u001b[0m in \u001b[0;36mrun\u001b[0;34m(self, fetches, feed_dict, options, run_metadata)\u001b[0m\n\u001b[1;32m    887\u001b[0m     \u001b[0;32mtry\u001b[0m\u001b[0;34m:\u001b[0m\u001b[0;34m\u001b[0m\u001b[0m\n\u001b[1;32m    888\u001b[0m       result = self._run(None, fetches, feed_dict, options_ptr,\n\u001b[0;32m--> 889\u001b[0;31m                          run_metadata_ptr)\n\u001b[0m\u001b[1;32m    890\u001b[0m       \u001b[0;32mif\u001b[0m \u001b[0mrun_metadata\u001b[0m\u001b[0;34m:\u001b[0m\u001b[0;34m\u001b[0m\u001b[0m\n\u001b[1;32m    891\u001b[0m         \u001b[0mproto_data\u001b[0m \u001b[0;34m=\u001b[0m \u001b[0mtf_session\u001b[0m\u001b[0;34m.\u001b[0m\u001b[0mTF_GetBuffer\u001b[0m\u001b[0;34m(\u001b[0m\u001b[0mrun_metadata_ptr\u001b[0m\u001b[0;34m)\u001b[0m\u001b[0;34m\u001b[0m\u001b[0m\n",
      "\u001b[0;32m~/anaconda3/envs/tf35/lib/python3.5/site-packages/tensorflow/python/client/session.py\u001b[0m in \u001b[0;36m_run\u001b[0;34m(self, handle, fetches, feed_dict, options, run_metadata)\u001b[0m\n\u001b[1;32m   1118\u001b[0m     \u001b[0;32mif\u001b[0m \u001b[0mfinal_fetches\u001b[0m \u001b[0;32mor\u001b[0m \u001b[0mfinal_targets\u001b[0m \u001b[0;32mor\u001b[0m \u001b[0;34m(\u001b[0m\u001b[0mhandle\u001b[0m \u001b[0;32mand\u001b[0m \u001b[0mfeed_dict_tensor\u001b[0m\u001b[0;34m)\u001b[0m\u001b[0;34m:\u001b[0m\u001b[0;34m\u001b[0m\u001b[0m\n\u001b[1;32m   1119\u001b[0m       results = self._do_run(handle, final_targets, final_fetches,\n\u001b[0;32m-> 1120\u001b[0;31m                              feed_dict_tensor, options, run_metadata)\n\u001b[0m\u001b[1;32m   1121\u001b[0m     \u001b[0;32melse\u001b[0m\u001b[0;34m:\u001b[0m\u001b[0;34m\u001b[0m\u001b[0m\n\u001b[1;32m   1122\u001b[0m       \u001b[0mresults\u001b[0m \u001b[0;34m=\u001b[0m \u001b[0;34m[\u001b[0m\u001b[0;34m]\u001b[0m\u001b[0;34m\u001b[0m\u001b[0m\n",
      "\u001b[0;32m~/anaconda3/envs/tf35/lib/python3.5/site-packages/tensorflow/python/client/session.py\u001b[0m in \u001b[0;36m_do_run\u001b[0;34m(self, handle, target_list, fetch_list, feed_dict, options, run_metadata)\u001b[0m\n\u001b[1;32m   1315\u001b[0m     \u001b[0;32mif\u001b[0m \u001b[0mhandle\u001b[0m \u001b[0;32mis\u001b[0m \u001b[0;32mNone\u001b[0m\u001b[0;34m:\u001b[0m\u001b[0;34m\u001b[0m\u001b[0m\n\u001b[1;32m   1316\u001b[0m       return self._do_call(_run_fn, self._session, feeds, fetches, targets,\n\u001b[0;32m-> 1317\u001b[0;31m                            options, run_metadata)\n\u001b[0m\u001b[1;32m   1318\u001b[0m     \u001b[0;32melse\u001b[0m\u001b[0;34m:\u001b[0m\u001b[0;34m\u001b[0m\u001b[0m\n\u001b[1;32m   1319\u001b[0m       \u001b[0;32mreturn\u001b[0m \u001b[0mself\u001b[0m\u001b[0;34m.\u001b[0m\u001b[0m_do_call\u001b[0m\u001b[0;34m(\u001b[0m\u001b[0m_prun_fn\u001b[0m\u001b[0;34m,\u001b[0m \u001b[0mself\u001b[0m\u001b[0;34m.\u001b[0m\u001b[0m_session\u001b[0m\u001b[0;34m,\u001b[0m \u001b[0mhandle\u001b[0m\u001b[0;34m,\u001b[0m \u001b[0mfeeds\u001b[0m\u001b[0;34m,\u001b[0m \u001b[0mfetches\u001b[0m\u001b[0;34m)\u001b[0m\u001b[0;34m\u001b[0m\u001b[0m\n",
      "\u001b[0;32m~/anaconda3/envs/tf35/lib/python3.5/site-packages/tensorflow/python/client/session.py\u001b[0m in \u001b[0;36m_do_call\u001b[0;34m(self, fn, *args)\u001b[0m\n\u001b[1;32m   1321\u001b[0m   \u001b[0;32mdef\u001b[0m \u001b[0m_do_call\u001b[0m\u001b[0;34m(\u001b[0m\u001b[0mself\u001b[0m\u001b[0;34m,\u001b[0m \u001b[0mfn\u001b[0m\u001b[0;34m,\u001b[0m \u001b[0;34m*\u001b[0m\u001b[0margs\u001b[0m\u001b[0;34m)\u001b[0m\u001b[0;34m:\u001b[0m\u001b[0;34m\u001b[0m\u001b[0m\n\u001b[1;32m   1322\u001b[0m     \u001b[0;32mtry\u001b[0m\u001b[0;34m:\u001b[0m\u001b[0;34m\u001b[0m\u001b[0m\n\u001b[0;32m-> 1323\u001b[0;31m       \u001b[0;32mreturn\u001b[0m \u001b[0mfn\u001b[0m\u001b[0;34m(\u001b[0m\u001b[0;34m*\u001b[0m\u001b[0margs\u001b[0m\u001b[0;34m)\u001b[0m\u001b[0;34m\u001b[0m\u001b[0m\n\u001b[0m\u001b[1;32m   1324\u001b[0m     \u001b[0;32mexcept\u001b[0m \u001b[0merrors\u001b[0m\u001b[0;34m.\u001b[0m\u001b[0mOpError\u001b[0m \u001b[0;32mas\u001b[0m \u001b[0me\u001b[0m\u001b[0;34m:\u001b[0m\u001b[0;34m\u001b[0m\u001b[0m\n\u001b[1;32m   1325\u001b[0m       \u001b[0mmessage\u001b[0m \u001b[0;34m=\u001b[0m \u001b[0mcompat\u001b[0m\u001b[0;34m.\u001b[0m\u001b[0mas_text\u001b[0m\u001b[0;34m(\u001b[0m\u001b[0me\u001b[0m\u001b[0;34m.\u001b[0m\u001b[0mmessage\u001b[0m\u001b[0;34m)\u001b[0m\u001b[0;34m\u001b[0m\u001b[0m\n",
      "\u001b[0;32m~/anaconda3/envs/tf35/lib/python3.5/site-packages/tensorflow/python/client/session.py\u001b[0m in \u001b[0;36m_run_fn\u001b[0;34m(session, feed_dict, fetch_list, target_list, options, run_metadata)\u001b[0m\n\u001b[1;32m   1300\u001b[0m           return tf_session.TF_Run(session, options,\n\u001b[1;32m   1301\u001b[0m                                    \u001b[0mfeed_dict\u001b[0m\u001b[0;34m,\u001b[0m \u001b[0mfetch_list\u001b[0m\u001b[0;34m,\u001b[0m \u001b[0mtarget_list\u001b[0m\u001b[0;34m,\u001b[0m\u001b[0;34m\u001b[0m\u001b[0m\n\u001b[0;32m-> 1302\u001b[0;31m                                    status, run_metadata)\n\u001b[0m\u001b[1;32m   1303\u001b[0m \u001b[0;34m\u001b[0m\u001b[0m\n\u001b[1;32m   1304\u001b[0m     \u001b[0;32mdef\u001b[0m \u001b[0m_prun_fn\u001b[0m\u001b[0;34m(\u001b[0m\u001b[0msession\u001b[0m\u001b[0;34m,\u001b[0m \u001b[0mhandle\u001b[0m\u001b[0;34m,\u001b[0m \u001b[0mfeed_dict\u001b[0m\u001b[0;34m,\u001b[0m \u001b[0mfetch_list\u001b[0m\u001b[0;34m)\u001b[0m\u001b[0;34m:\u001b[0m\u001b[0;34m\u001b[0m\u001b[0m\n",
      "\u001b[0;31mKeyboardInterrupt\u001b[0m: "
     ]
    }
   ],
   "source": [
    "plt.close()\n",
    "correct_prediction = tf.equal(tf.argmax(y, 1), tf.argmax(y_, 1))\n",
    "accuracy = tf.reduce_mean(tf.cast(correct_prediction, tf.float32))\n",
    "\n",
    "# Train\n",
    "print('training')\n",
    "for ii in range(100):\n",
    "    batch_xs, batch_ys = mnist.train.next_batch(2000)\n",
    "    if ii % 10 == 0:\n",
    "        print(sess.run(accuracy, feed_dict={x: mnist.test.images,\n",
    "                                  y_: mnist.test.labels}))\n",
    "        print(sess.run(accuracy, feed_dict={x: batch_xs, y_: batch_ys}))\n",
    "        plt.figure()\n",
    "        n, e_float = sess.run([keep, e], feed_dict={x: batch_xs, y_: batch_ys})\n",
    "        plt.plot(e_float.ravel())\n",
    "        print(e_float.ravel()[-20:], n)\n",
    "    sess.run(train_step, feed_dict={x: batch_xs, y_: batch_ys})\n",
    "\n",
    "print('test')\n",
    "print(sess.run(accuracy, feed_dict={x: mnist.test.images,\n",
    "                                  y_: mnist.test.labels}))\n",
    "plt.show()"
   ]
  },
  {
   "cell_type": "code",
   "execution_count": null,
   "metadata": {
    "collapsed": true
   },
   "outputs": [],
   "source": []
  }
 ],
 "metadata": {
  "kernelspec": {
   "display_name": "Python 3",
   "language": "python",
   "name": "python3"
  },
  "language_info": {
   "codemirror_mode": {
    "name": "ipython",
    "version": 3
   },
   "file_extension": ".py",
   "mimetype": "text/x-python",
   "name": "python",
   "nbconvert_exporter": "python",
   "pygments_lexer": "ipython3",
   "version": "3.5.4"
  }
 },
 "nbformat": 4,
 "nbformat_minor": 2
}
